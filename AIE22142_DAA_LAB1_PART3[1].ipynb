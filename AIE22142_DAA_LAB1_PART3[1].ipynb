{
  "cells": [
    {
      "cell_type": "markdown",
      "metadata": {
        "id": "QTeMi0Qeic_r"
      },
      "source": [
        "1. Given an unsorted integer array, find a pair with the given sum in it.\n",
        "\n",
        "num = [8,7,2,5,3,1]\n",
        "target = 10\n"
      ]
    },
    {
      "cell_type": "code",
      "execution_count": 1,
      "metadata": {
        "colab": {
          "base_uri": "https://localhost:8080/"
        },
        "id": "_hVFqe-Ej1mH",
        "outputId": "dd1dbff5-0d54-4a56-81d3-e8f84c0ef568"
      },
      "outputs": [
        {
          "name": "stdout",
          "output_type": "stream",
          "text": [
            "Pair with sum 12 found: (5, 7)\n"
          ]
        }
      ],
      "source": [
        "def find_pair_with_sum(nums, target):\n",
        "    num_set = set()\n",
        "\n",
        "    for num in nums:\n",
        "        complement = target - num\n",
        "        if complement in num_set:\n",
        "            return num, complement\n",
        "        num_set.add(num)\n",
        "\n",
        "    return None\n",
        "\n",
        "# Example usage:\n",
        "nums = [8, 7, 2, 5, 3, 1]\n",
        "target = int(input(\"Enter the target sum: \"))\n",
        "pair = find_pair_with_sum(nums, target)\n",
        "if pair:\n",
        "    print(f\"Pair with sum {target} found: {pair}\")\n",
        "else:\n",
        "    print(f\"No pair with sum {target} found\")\n"
      ]
    },
    {
      "cell_type": "markdown",
      "metadata": {
        "id": "nIcLMjumj09u"
      },
      "source": [
        "2. Given an unsorted integer array containing both positive and negative numbers, find a pair with maximum product in it.\n",
        "Input:\n",
        "If we have an array say arr = [1, 7, 4, 2, 8, 6, 3, 9, 5]\n",
        "Then in this array first two bigger numbers are 9 and 8. So, product is 9*8=72 which is maximum product."
      ]
    },
    {
      "cell_type": "code",
      "execution_count": 2,
      "metadata": {
        "colab": {
          "base_uri": "https://localhost:8080/"
        },
        "id": "20kKZ1hyka67",
        "outputId": "39cca624-5e3e-45ef-aa9a-a1497c0f446c"
      },
      "outputs": [
        {
          "name": "stdout",
          "output_type": "stream",
          "text": [
            "Pair with maximum product: (8, 9), Product: 72\n"
          ]
        }
      ],
      "source": [
        "def max_product_pair(nums):\n",
        "    if len(nums) < 2:\n",
        "        return None\n",
        "\n",
        "    max_product = float('-inf')\n",
        "    max_pair = None\n",
        "\n",
        "    for i in range(len(nums)):\n",
        "        for j in range(i + 1, len(nums)):\n",
        "            product = nums[i] * nums[j]\n",
        "            if product > max_product:\n",
        "                max_product = product\n",
        "                max_pair = (nums[i], nums[j])\n",
        "\n",
        "    return max_pair\n",
        "\n",
        "# Example usage:\n",
        "nums = [1, 7, 4, 2, 8, 6, 3, 9, 5]\n",
        "pair = max_product_pair(nums)\n",
        "if pair:\n",
        "    print(f\"Pair with maximum product: {pair}, Product: {pair[0] * pair[1]}\")\n",
        "else:\n",
        "    print(\"No pair found\")\n"
      ]
    },
    {
      "cell_type": "markdown",
      "metadata": {
        "id": "qqlpqsoPkZpe"
      },
      "source": [
        "3. Given an array where all its elements are sorted except two swapped elements, sort it in linear time. Assume there are no duplicates in the array."
      ]
    },
    {
      "cell_type": "code",
      "execution_count": 4,
      "metadata": {
        "colab": {
          "base_uri": "https://localhost:8080/"
        },
        "id": "XQoFqkLVmdAe",
        "outputId": "5a5de211-2cce-4be5-d5bf-ea9812f0ccce"
      },
      "outputs": [
        {
          "name": "stdout",
          "output_type": "stream",
          "text": [
            "Sorted array after fixing the swapped elements: [1, 3, 5, 6, 8, 1, 9, 3]\n"
          ]
        }
      ],
      "source": [
        "def sort_swapped_array(arr):\n",
        "    # Iterate through the array to find the indices of the two elements that are out of order\n",
        "    first_index = None  # Initialize the index of the first out-of-order element\n",
        "    second_index = None  # Initialize the index of the second out-of-order element\n",
        "    for i in range(len(arr) - 1):\n",
        "        if arr[i] > arr[i + 1]:  # Check if the current element is greater than the next element\n",
        "            if first_index is None:\n",
        "                first_index = i  # Update the index of the first out-of-order element\n",
        "            else:\n",
        "                second_index = i + 1 \n",
        "                break\n",
        "\n",
        "    if second_index is None:\n",
        "        second_index = first_index + 1  \n",
        "\n",
        "    # Swap the two elements to restore the sorted order\n",
        "    arr[first_index], arr[second_index] = arr[second_index], arr[first_index]  # Swap the out-of-order elements\n",
        "\n",
        "# Example usage:\n",
        "arr = list(map(int, input(\"Enter the array elements separated by space: \").split()))\n",
        "sort_swapped_array(arr) \n",
        "print(\"Sorted array after fixing the swapped elements:\", arr) \n"
      ]
    },
    {
      "cell_type": "markdown",
      "metadata": {
        "id": "CgoxEalDkP6w"
      },
      "source": [
        "4. Given a binary array of 0’s and 1’s. Segregate all 0’s followed by 1.\n",
        "\n",
        "input : [0,1,0,1,0,0,1,1,1,0]\n",
        "output : [0,0,0,0,0,1,1,1,1,1]"
      ]
    },
    {
      "cell_type": "code",
      "execution_count": null,
      "metadata": {
        "colab": {
          "base_uri": "https://localhost:8080/"
        },
        "id": "tJSAqhwErLgD",
        "outputId": "520e2f82-5365-41cd-f748-1521f36018c1"
      },
      "outputs": [
        {
          "name": "stdout",
          "output_type": "stream",
          "text": [
            "Output: [0, 0, 0, 0, 0, 1, 1, 1, 1, 1]\n"
          ]
        }
      ],
      "source": [
        "def segregate_zeros_and_ones(arr):\n",
        "    left = 0\n",
        "    right = len(arr) - 1\n",
        "\n",
        "    while left < right:\n",
        "\n",
        "        while arr[left] == 0:\n",
        "            left += 1\n",
        "\n",
        "\n",
        "        while arr[right] == 1:\n",
        "            right -= 1\n",
        "\n",
        "\n",
        "        if left < right:\n",
        "            arr[left], arr[right] = arr[right], arr[left]\n",
        "\n",
        "    return arr\n",
        "\n",
        "# Example usage:\n",
        "arr = [0, 1, 0, 1, 0, 0, 1, 1, 1, 0]\n",
        "result = segregate_zeros_and_ones(arr)\n",
        "print(\"Output:\", result)\n"
      ]
    },
    {
      "cell_type": "markdown",
      "metadata": {
        "id": "wvx_zzJxsDPI"
      },
      "source": [
        "5. Write a program to implement inversion count.\n",
        "Given the Input (non-negative integers): A = {10 , 1 , 2 , 4 , 13 , 9 , 5 }\n",
        "The number of inversions that are possible are as follows:\n",
        "{ ( 10 , 1 ) , ( 10 , 2 ) , ( 10 , 4 ) , ( 10 , 9 ) , ( 10 , 5 ) , ( 13 , 9 ) , ( 13 , 5 ) , ( 9 , 5 ) }\n",
        "\n",
        "Total count of inversions are: 8"
      ]
    },
    {
      "cell_type": "code",
      "execution_count": 2,
      "metadata": {
        "colab": {
          "base_uri": "https://localhost:8080/"
        },
        "id": "1qLcD9WLsC4B",
        "outputId": "e9f3119c-c68b-4e5e-d4c0-b14358b105fc"
      },
      "outputs": [
        {
          "name": "stdout",
          "output_type": "stream",
          "text": [
            "Enter the array elements separated by spaces: 2 12 13 76 55 32 10\n",
            "Total count of inversions: 15\n"
          ]
        }
      ],
      "source": [
        "def merge_and_count_inversions(arr, left, mid, right):\n",
        "    inv_count = 0\n",
        "\n",
        "    # Create temporary arrays for left and right subarrays\n",
        "    left_arr = arr[left:mid + 1]\n",
        "    right_arr = arr[mid + 1:right + 1]\n",
        "\n",
        "    # Merge the temporary arrays back into arr[left:right + 1]\n",
        "    i = j = 0\n",
        "    k = left  # Initial index of merged subarray\n",
        "\n",
        "    while i < len(left_arr) and j < len(right_arr):\n",
        "        if left_arr[i] <= right_arr[j]:\n",
        "            arr[k] = left_arr[i]\n",
        "            i += 1\n",
        "        else:\n",
        "            arr[k] = right_arr[j]\n",
        "            j += 1\n",
        "            inv_count += (mid - left + 1)  # Count inversions\n",
        "        k += 1\n",
        "\n",
        "    # Copy the remaining elements of left_arr and right_arr, if any\n",
        "    while i < len(left_arr):\n",
        "        arr[k] = left_arr[i]\n",
        "        i += 1\n",
        "        k += 1\n",
        "\n",
        "    while j < len(right_arr):\n",
        "        arr[k] = right_arr[j]\n",
        "        j += 1\n",
        "        k += 1\n",
        "\n",
        "    return inv_count\n",
        "\n",
        "def merge_sort_and_count_inversions(arr, left, right):\n",
        "    inv_count = 0\n",
        "\n",
        "    if left < right:\n",
        "        mid = (left + right) // 2\n",
        "\n",
        "        # Count inversions in left and right subarrays\n",
        "        inv_count += merge_sort_and_count_inversions(arr, left, mid)\n",
        "        inv_count += merge_sort_and_count_inversions(arr, mid + 1, right)\n",
        "\n",
        "        # Merge the sorted subarrays and count inversions\n",
        "        inv_count += merge_and_count_inversions(arr, left, mid, right)\n",
        "\n",
        "    return inv_count\n",
        "\n",
        "def count_inversions(arr):\n",
        "    # Call merge_sort_and_count_inversions to count inversions\n",
        "    inv_count = merge_sort_and_count_inversions(arr, 0, len(arr) - 1)\n",
        "    return inv_count\n",
        "\n",
        "\n",
        "user_input = input(\"Enter the array elements separated by spaces: \")\n",
        "arr = list(map(int, user_input.split()))\n",
        "\n",
        "\n",
        "total_inversions = count_inversions(arr)\n",
        "print(\"Total count of inversions:\", total_inversions)\n"
      ]
    },
    {
      "cell_type": "markdown",
      "metadata": {
        "id": "6KKPzzb8hqXF"
      },
      "source": [
        "6. An array contains N numbers, and you want to determine whether two of the numbers sum to a given number K. For example, if the input is 8, 4, 1, 6 and K is 10, the answer is yes (4 and 6). A number may be used twice.\n",
        "a. Give an 𝑂(𝑛2) algorithm to solve this problem.\n",
        "b. Give an 𝑂(𝑛𝑙𝑜𝑔𝑛) algorithm to solve this problem.\n",
        "(Hint: first sort the array and then solve the problem in linear time)."
      ]
    },
    {
      "cell_type": "code",
      "execution_count": 3,
      "metadata": {
        "colab": {
          "base_uri": "https://localhost:8080/"
        },
        "id": "7yGNQyM7htVV",
        "outputId": "3d9b5a33-7bb0-413d-f19c-8a38f1be1fae"
      },
      "outputs": [
        {
          "name": "stdout",
          "output_type": "stream",
          "text": [
            "True\n"
          ]
        }
      ],
      "source": [
        "# a)) 𝑂(𝑛^2) algorithm:\n",
        "\n",
        "def has_sum_naive(arr, K):\n",
        "    n = len(arr)\n",
        "    for i in range(n):\n",
        "        for j in range(i + 1, n):\n",
        "            if arr[i] + arr[j] == K:\n",
        "                return True\n",
        "    return False\n",
        "\n",
        "\n",
        "arr = [8, 4, 1, 6]\n",
        "K = 10\n",
        "print(has_sum_naive(arr, K))\n"
      ]
    },
    {
      "cell_type": "code",
      "execution_count": 4,
      "metadata": {
        "colab": {
          "base_uri": "https://localhost:8080/"
        },
        "id": "ogUyyQDUh2z2",
        "outputId": "314f8333-d1ca-47af-f0c8-7bd2739178fb"
      },
      "outputs": [
        {
          "name": "stdout",
          "output_type": "stream",
          "text": [
            "True\n"
          ]
        }
      ],
      "source": [
        "# b))𝑂(𝑛𝑙𝑜𝑔𝑛) algorithm:\n",
        "\n",
        "def has_sum(arr, K):\n",
        "    arr.sort()  # Sort the array in non-decreasing order\n",
        "    left = 0\n",
        "    right = len(arr) - 1\n",
        "\n",
        "    while left < right:\n",
        "        curr_sum = arr[left] + arr[right]\n",
        "        if curr_sum == K:\n",
        "            return True\n",
        "        elif curr_sum < K:\n",
        "            left += 1\n",
        "        else:\n",
        "            right -= 1\n",
        "\n",
        "    return False\n",
        "\n",
        "\n",
        "arr = [8, 4, 1, 6]\n",
        "K = 10\n",
        "print(has_sum(arr, K))\n"
      ]
    }
  ],
  "metadata": {
    "colab": {
      "provenance": []
    },
    "kernelspec": {
      "display_name": "Python 3",
      "name": "python3"
    },
    "language_info": {
      "codemirror_mode": {
        "name": "ipython",
        "version": 3
      },
      "file_extension": ".py",
      "mimetype": "text/x-python",
      "name": "python",
      "nbconvert_exporter": "python",
      "pygments_lexer": "ipython3",
      "version": "3.12.2"
    }
  },
  "nbformat": 4,
  "nbformat_minor": 0
}
